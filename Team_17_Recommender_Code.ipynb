{
  "nbformat": 4,
  "nbformat_minor": 0,
  "metadata": {
    "colab": {
      "provenance": []
    },
    "kernelspec": {
      "name": "python3",
      "display_name": "Python 3"
    },
    "language_info": {
      "name": "python"
    }
  },
  "cells": [
    {
      "cell_type": "markdown",
      "source": [
        "## PART **1**"
      ],
      "metadata": {
        "id": "XWKDZO97tDHb"
      }
    },
    {
      "cell_type": "code",
      "execution_count": null,
      "metadata": {
        "id": "K89OBNNV1tfe"
      },
      "outputs": [],
      "source": [
        "## Install tensorflow recommenders and datasets to our current environment\n",
        "\n",
        "!pip install -q tensorflow-recommenders &> /dev/null\n",
        "!pip install -q --upgrade tensorflow-datasets &> /dev/null"
      ]
    },
    {
      "cell_type": "code",
      "source": [
        "## Import our libraries\n",
        "\n",
        "from typing import Dict, Text\n",
        "import numpy as np\n",
        "import tensorflow as tf\n",
        "import tensorflow_datasets as tfds\n",
        "import tensorflow_recommenders as tfrs\n",
        "import pprint"
      ],
      "metadata": {
        "id": "RdtIxeBw1ySg"
      },
      "execution_count": null,
      "outputs": []
    },
    {
      "cell_type": "code",
      "source": [
        "# Ratings data.\n",
        "ratings = tfds.load(\"movielens/100k-ratings\", split=\"train\")"
      ],
      "metadata": {
        "id": "ZtsYDZdr1yUy"
      },
      "execution_count": null,
      "outputs": []
    },
    {
      "cell_type": "code",
      "source": [
        "## Let's look at our rating data\n",
        "\n",
        "for x in ratings.take(1).as_numpy_iterator():\n",
        "  pprint.pprint(x)"
      ],
      "metadata": {
        "colab": {
          "base_uri": "https://localhost:8080/"
        },
        "id": "xH78fFkR1yW3",
        "outputId": "997e9195-8456-424c-eca4-92cf973a8218"
      },
      "execution_count": null,
      "outputs": [
        {
          "output_type": "stream",
          "name": "stdout",
          "text": [
            "{'bucketized_user_age': 45.0,\n",
            " 'movie_genres': array([7]),\n",
            " 'movie_id': b'357',\n",
            " 'movie_title': b\"One Flew Over the Cuckoo's Nest (1975)\",\n",
            " 'raw_user_age': 46.0,\n",
            " 'timestamp': 879024327,\n",
            " 'user_gender': True,\n",
            " 'user_id': b'138',\n",
            " 'user_occupation_label': 4,\n",
            " 'user_occupation_text': b'doctor',\n",
            " 'user_rating': 4.0,\n",
            " 'user_zip_code': b'53211'}\n"
          ]
        }
      ]
    },
    {
      "cell_type": "code",
      "source": [
        "## We only need to use movie_title, user_id, and user_rating to build our model\n",
        "\n",
        "ratings = ratings.map(lambda x: {\n",
        "    \"movie_title\": x[\"movie_title\"],\n",
        "    \"user_id\": x[\"user_id\"],\n",
        "    \"user_rating\": x[\"user_rating\"]\n",
        "})\n",
        "\n",
        "## Take a look at our new dataset\n",
        "for x in ratings.take(1).as_numpy_iterator():\n",
        "  pprint.pprint(x)"
      ],
      "metadata": {
        "colab": {
          "base_uri": "https://localhost:8080/"
        },
        "id": "stUPqPPT1ygi",
        "outputId": "c4606192-f4df-49bb-f990-e356d0c75d36"
      },
      "execution_count": null,
      "outputs": [
        {
          "output_type": "stream",
          "name": "stdout",
          "text": [
            "{'movie_title': b\"One Flew Over the Cuckoo's Nest (1975)\",\n",
            " 'user_id': b'138',\n",
            " 'user_rating': 4.0}\n"
          ]
        }
      ]
    },
    {
      "cell_type": "code",
      "source": [
        "## Split data into train and test - 80% train - 20% test\n",
        "\n",
        "shuffled = ratings.shuffle(100000, seed=42, reshuffle_each_iteration=False)\n",
        "\n",
        "train = shuffled.take(80000)\n",
        "test = shuffled.skip(80000).take(20000)"
      ],
      "metadata": {
        "id": "lNwMzLo_1yi6"
      },
      "execution_count": null,
      "outputs": []
    },
    {
      "cell_type": "code",
      "source": [
        "## Map our unique user ids and movie titles\n",
        "\n",
        "## takes only relevant columns\n",
        "movie_titles = ratings.batch(100000).map(lambda x: x[\"movie_title\"])\n",
        "user_ids = ratings.batch(100000).map(lambda x: x[\"user_id\"])\n",
        "\n",
        "## takes only unique values in those columns\n",
        "unique_movie_titles = np.unique(np.concatenate(list(movie_titles)))\n",
        "unique_user_ids = np.unique(np.concatenate(list(user_ids)))"
      ],
      "metadata": {
        "id": "Tjh9jbGV1ylO"
      },
      "execution_count": null,
      "outputs": []
    },
    {
      "cell_type": "code",
      "source": [
        "print(unique_movie_titles[:5])\n",
        "print('\\t')\n",
        "print(f'number of unique movies: ' + str(len(unique_movie_titles)))"
      ],
      "metadata": {
        "colab": {
          "base_uri": "https://localhost:8080/"
        },
        "id": "99_SUXhu_d70",
        "outputId": "94bbd26a-d158-4f09-cb32-044c7d300f9d"
      },
      "execution_count": null,
      "outputs": [
        {
          "output_type": "stream",
          "name": "stdout",
          "text": [
            "[b\"'Til There Was You (1997)\" b'1-900 (1994)' b'101 Dalmatians (1996)'\n",
            " b'12 Angry Men (1957)' b'187 (1997)']\n",
            "\t\n",
            "number of unique movies: 1664\n"
          ]
        }
      ]
    },
    {
      "cell_type": "code",
      "source": [
        "print(unique_user_ids[:5])\n",
        "print('\\t')\n",
        "print(f'number of unique user ids: ' + str(len(unique_user_ids)))"
      ],
      "metadata": {
        "colab": {
          "base_uri": "https://localhost:8080/"
        },
        "id": "sBw83ouq_kDK",
        "outputId": "d4d50eb4-2b60-4aa6-f8b9-1e083c54825f"
      },
      "execution_count": null,
      "outputs": [
        {
          "output_type": "stream",
          "name": "stdout",
          "text": [
            "[b'1' b'10' b'100' b'101' b'102']\n",
            "\t\n",
            "number of unique user ids: 943\n"
          ]
        }
      ]
    },
    {
      "cell_type": "code",
      "source": [
        "## Implementing a model\n",
        "\n",
        "class RankingModel(tf.keras.Model):\n",
        "\n",
        "  def __init__(self):\n",
        "    super().__init__()\n",
        "    embedding_dimension = 32\n",
        "\n",
        "    # A layer that uses user ids as inputs and converts them into embeddings\n",
        "    self.user_embeddings = tf.keras.Sequential([\n",
        "      tf.keras.layers.StringLookup(\n",
        "        vocabulary=unique_user_ids, mask_token=None),\n",
        "      tf.keras.layers.Embedding(len(unique_user_ids) + 1, embedding_dimension)\n",
        "    ])\n",
        "\n",
        "    # A layer that uses movie titles as inputs and converts them into embeddings\n",
        "    self.movie_embeddings = tf.keras.Sequential([\n",
        "      tf.keras.layers.StringLookup(\n",
        "        vocabulary=unique_movie_titles, mask_token=None),\n",
        "      tf.keras.layers.Embedding(len(unique_movie_titles) + 1, embedding_dimension)\n",
        "    ])\n",
        "\n",
        "    # A sequence of dense layers that take the concatenation of a user id and movie title and makes a prediction of the movie rating as an output\n",
        "    self.ratings = tf.keras.Sequential([\n",
        "      # Learn multiple dense layers.\n",
        "      tf.keras.layers.Dense(256, activation=\"relu\"),\n",
        "      tf.keras.layers.Dense(64, activation=\"relu\"),\n",
        "      # Make rating predictions in the final layer.\n",
        "      tf.keras.layers.Dense(1)\n",
        "  ])\n",
        "\n",
        "  # The model takes user id and movie title and passes them through the layers above to obtain a predicted movie rating\n",
        "  def call(self, inputs):\n",
        "\n",
        "    user_id, movie_title = inputs\n",
        "\n",
        "    user_embedding = self.user_embeddings(user_id)\n",
        "    movie_embedding = self.movie_embeddings(movie_title)\n",
        "\n",
        "    return self.ratings(tf.concat([user_embedding, movie_embedding], axis=1))"
      ],
      "metadata": {
        "id": "BPfRnCp-7Tbk"
      },
      "execution_count": null,
      "outputs": []
    },
    {
      "cell_type": "code",
      "source": [
        "RankingModel()(([\"42\"], [\"One Flew Over the Cuckoo's Nest (1975)\"]))"
      ],
      "metadata": {
        "colab": {
          "base_uri": "https://localhost:8080/"
        },
        "id": "XstfMOny_L7W",
        "outputId": "f09712ff-6d9d-4602-82f6-dc0749f1cd08"
      },
      "execution_count": null,
      "outputs": [
        {
          "output_type": "stream",
          "name": "stderr",
          "text": [
            "WARNING:tensorflow:Layers in a Sequential model should only have a single input tensor. Received: inputs=['42']. Consider rewriting this model with the Functional API.\n",
            "WARNING:tensorflow:Layers in a Sequential model should only have a single input tensor. Received: inputs=[\"One Flew Over the Cuckoo's Nest (1975)\"]. Consider rewriting this model with the Functional API.\n"
          ]
        },
        {
          "output_type": "execute_result",
          "data": {
            "text/plain": [
              "<tf.Tensor: shape=(1, 1), dtype=float32, numpy=array([[0.03950961]], dtype=float32)>"
            ]
          },
          "metadata": {},
          "execution_count": 101
        }
      ]
    },
    {
      "cell_type": "markdown",
      "source": [
        "## **PART 2**"
      ],
      "metadata": {
        "id": "-HDTuOcss7gx"
      }
    },
    {
      "cell_type": "code",
      "source": [
        "## Build the loss used to train our model\n",
        "## We are using the Ranking task object and MSE for our loss function\n",
        "## This task returns the computed loss, \n",
        "## which we can use to implement in our model's training loop\n",
        "\n",
        "task = tfrs.tasks.Ranking(\n",
        "  loss = tf.keras.losses.MeanSquaredError(),\n",
        "  metrics=[tf.keras.metrics.RootMeanSquaredError()]\n",
        ")"
      ],
      "metadata": {
        "id": "c6IWANEV_L9y"
      },
      "execution_count": null,
      "outputs": []
    },
    {
      "cell_type": "code",
      "source": [
        "## Build our full model\n",
        "## Use the task created above to minimize our losses\n",
        "\n",
        "class MovielensModel(tfrs.models.Model):\n",
        "\n",
        "  def __init__(self):\n",
        "    super().__init__()\n",
        "    ## Create a RankingModel instance\n",
        "    self.ranking_model: tf.keras.Model = RankingModel()\n",
        "    ## Create a loss calculation task\n",
        "    self.task: tf.keras.layers.Layer = tfrs.tasks.Ranking(\n",
        "      loss = tf.keras.losses.MeanSquaredError(),\n",
        "      metrics=[tf.keras.metrics.RootMeanSquaredError()]\n",
        "    )\n",
        "\n",
        "  ## Takes a dictionary of input features (user ids, movie titles, user ratings) and returns\n",
        "  ## the rating prediction made by the RankingModel\n",
        "  def call(self, features: Dict[str, tf.Tensor]) -> tf.Tensor:\n",
        "    return self.ranking_model(\n",
        "        (features[\"user_id\"], features[\"movie_title\"]))\n",
        "\n",
        "  ## Calculates the loss and the metrics based on the inputs\n",
        "  def compute_loss(self, features: Dict[Text, tf.Tensor], training=False) -> tf.Tensor:\n",
        "    labels = features.pop(\"user_rating\")\n",
        "\n",
        "    rating_predictions = self(features)\n",
        "\n",
        "    return self.task(labels=labels, predictions=rating_predictions)"
      ],
      "metadata": {
        "id": "9K9kgEMW_MAJ"
      },
      "execution_count": null,
      "outputs": []
    },
    {
      "cell_type": "code",
      "source": [
        "## Fitting and Evaluating\n",
        "\n",
        "model = MovielensModel()\n",
        "model.compile(optimizer=tf.keras.optimizers.Adagrad(learning_rate=0.1))"
      ],
      "metadata": {
        "id": "X8ljGnGA_MCk"
      },
      "execution_count": null,
      "outputs": []
    },
    {
      "cell_type": "code",
      "source": [
        "## Shuffle to introduce randomness\n",
        "## Batch to improve efficiency/accuracy\n",
        "## Cache increases the speed of the training time\n",
        "\n",
        "cached_train = train.shuffle(100_000).batch(8192).cache()\n",
        "cached_test = test.batch(4096).cache()"
      ],
      "metadata": {
        "id": "J4um6mxpBw_h"
      },
      "execution_count": null,
      "outputs": []
    },
    {
      "cell_type": "code",
      "source": [
        "model.fit(cached_train, epochs=3)\n",
        "\n",
        "## As you can see, MSE and loss is falling as we continue to fit the model"
      ],
      "metadata": {
        "colab": {
          "base_uri": "https://localhost:8080/"
        },
        "id": "iCuwqYAQ_MFA",
        "outputId": "571b5e87-7e6a-42a5-8ce7-cbfc2fda2efc"
      },
      "execution_count": null,
      "outputs": [
        {
          "output_type": "stream",
          "name": "stdout",
          "text": [
            "Epoch 1/3\n",
            "10/10 [==============================] - 7s 44ms/step - root_mean_squared_error: 2.1869 - loss: 4.3895 - regularization_loss: 0.0000e+00 - total_loss: 4.3895\n",
            "Epoch 2/3\n",
            "10/10 [==============================] - 0s 40ms/step - root_mean_squared_error: 1.1156 - loss: 1.2426 - regularization_loss: 0.0000e+00 - total_loss: 1.2426\n",
            "Epoch 3/3\n",
            "10/10 [==============================] - 0s 34ms/step - root_mean_squared_error: 1.1048 - loss: 1.2180 - regularization_loss: 0.0000e+00 - total_loss: 1.2180\n"
          ]
        },
        {
          "output_type": "execute_result",
          "data": {
            "text/plain": [
              "<keras.callbacks.History at 0x7f7c6ac07430>"
            ]
          },
          "metadata": {},
          "execution_count": 106
        }
      ]
    },
    {
      "cell_type": "code",
      "source": [
        "## Evaluate the model on our cached test dataset\n",
        "## The lower the RMSE metric, the more accurate the model is\n",
        "\n",
        "model.evaluate(cached_test, return_dict=True)"
      ],
      "metadata": {
        "colab": {
          "base_uri": "https://localhost:8080/"
        },
        "id": "rcGN08sN_MHx",
        "outputId": "34095a84-b1b7-4769-c746-9838bc34d22b"
      },
      "execution_count": null,
      "outputs": [
        {
          "output_type": "stream",
          "name": "stdout",
          "text": [
            "5/5 [==============================] - 4s 16ms/step - root_mean_squared_error: 1.1040 - loss: 1.2224 - regularization_loss: 0.0000e+00 - total_loss: 1.2224\n"
          ]
        },
        {
          "output_type": "execute_result",
          "data": {
            "text/plain": [
              "{'root_mean_squared_error': 1.103978157043457,\n",
              " 'loss': 1.2383575439453125,\n",
              " 'regularization_loss': 0,\n",
              " 'total_loss': 1.2383575439453125}"
            ]
          },
          "metadata": {},
          "execution_count": 107
        }
      ]
    },
    {
      "cell_type": "code",
      "source": [
        "## Testing the ranking model\n",
        "## Movies would be derived from retrieval task\n",
        "\n",
        "test_ratings = {}\n",
        "test_movie_titles = [\"M*A*S*H (1970)\", \"Dances with Wolves (1990)\", \"Speed (1994)\"]\n",
        "for movie_title in test_movie_titles:\n",
        "  test_ratings[movie_title] = model({\n",
        "      \"user_id\": np.array([\"42\"]),\n",
        "      \"movie_title\": np.array([movie_title])\n",
        "  })\n",
        "\n",
        "print(\"Ratings:\")\n",
        "for title, score in sorted(test_ratings.items(), key=lambda x: x[1], reverse=True):\n",
        "  print(f\"{title}: {score}\")"
      ],
      "metadata": {
        "colab": {
          "base_uri": "https://localhost:8080/"
        },
        "id": "P_gjRmog_MJP",
        "outputId": "1beb65bb-2588-429d-86ee-523750862531"
      },
      "execution_count": null,
      "outputs": [
        {
          "output_type": "stream",
          "name": "stdout",
          "text": [
            "Ratings:\n",
            "M*A*S*H (1970): [[3.605894]]\n",
            "Speed (1994): [[3.5313191]]\n",
            "Dances with Wolves (1990): [[3.5234118]]\n"
          ]
        }
      ]
    }
  ]
}